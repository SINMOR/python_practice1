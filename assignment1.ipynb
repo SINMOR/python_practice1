{
 "cells": [
  {
   "cell_type": "code",
   "execution_count": null,
   "metadata": {},
   "outputs": [],
   "source": [
    "def check_score(symbols):\n",
    "    symbol_values = {\n",
    "        '#':5,\n",
    "        'o':3,\n",
    "        'x':1,\n",
    "        '!':-1,\n",
    "        '!!':-3,\n",
    "        '!!!':-5,\n",
    "\n",
    "    }\n",
    "\n",
    "    total_score = 0\n",
    "    for sublist in symbols:\n",
    "        for symbol in sublist:\n",
    "            total_score+=symbol_values[]\n",
    "    \n",
    "    return max(total_score,0)\n",
    "\n"
   ]
  },
  {
   "cell_type": "markdown",
   "metadata": {},
   "source": [
    "# No 2 "
   ]
  },
  {
   "cell_type": "code",
   "execution_count": null,
   "metadata": {},
   "outputs": [],
   "source": [
    "def combinations(x,y):\n",
    "    return x*y\n",
    "\n",
    "\n",
    "\n",
    "\n"
   ]
  },
  {
   "cell_type": "code",
   "execution_count": null,
   "metadata": {},
   "outputs": [],
   "source": []
  },
  {
   "cell_type": "code",
   "execution_count": null,
   "metadata": {},
   "outputs": [],
   "source": []
  },
  {
   "cell_type": "code",
   "execution_count": null,
   "metadata": {},
   "outputs": [],
   "source": []
  },
  {
   "cell_type": "code",
   "execution_count": null,
   "metadata": {},
   "outputs": [],
   "source": []
  }
 ],
 "metadata": {
  "language_info": {
   "name": "python"
  }
 },
 "nbformat": 4,
 "nbformat_minor": 2
}
